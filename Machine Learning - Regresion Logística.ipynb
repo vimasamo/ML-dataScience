{
 "cells": [
  {
   "cell_type": "markdown",
   "metadata": {},
   "source": [
    "## Machine Learning: Clasificador por Regresión Logística\n",
    "### Proyecto creado por: Víctor Manuel Sánchez Morales\n",
    "#### 06-octubre-2020\n",
    "\n",
    "Se usaron datos públicos de la siguiente dirección: [KAGGLE: Red Wine Quality](https://www.kaggle.com/uciml/red-wine-quality-cortez-et-al-2009?select=winequality-red.csv)\n",
    "\n",
    "## Machine Learning: Logistic Regression Classifier\n",
    "### Project created by: Víctor Manuel Sánchez Morales\n",
    "#### October 6th, 2020\n",
    "\n",
    "Public data from: [KAGGLE: Red Wine Quality](https://www.kaggle.com/uciml/red-wine-quality-cortez-et-al-2009?select=winequality-red.csv)"
   ]
  },
  {
   "cell_type": "code",
   "execution_count": null,
   "metadata": {},
   "outputs": [],
   "source": [
    "# importamos las librerias que necesitamos\n",
    "# import required libraries\n",
    "\n",
    "import pandas as pd\n",
    "import numpy as np\n",
    "import matplotlib.pyplot as plt\n",
    "from datetime import datetime\n",
    "from sklearn.model_selection import train_test_split\n",
    "from sklearn.linear_model import LogisticRegression\n",
    "from sklearn.model_selection import train_test_split\n",
    "from sklearn.preprocessing import StandardScaler\n",
    "\n",
    "import warnings\n",
    "warnings.filterwarnings(\"ignore\")\n",
    "\n",
    "\n",
    "# leemos la fuente de datos y la asigamos a una variable como dataframe\n",
    "# we read datasource and load it into a variable as a dataframe\n",
    "\n",
    "winequality = pd.read_csv(\"winequality-red.csv\")\n",
    "df = pd.DataFrame(winequality)"
   ]
  },
  {
   "cell_type": "code",
   "execution_count": null,
   "metadata": {},
   "outputs": [],
   "source": [
    "# echemos un vistazo a los datos...\n",
    "# lets take a look at the data...\n",
    "\n",
    "print(df.head())"
   ]
  },
  {
   "cell_type": "code",
   "execution_count": null,
   "metadata": {},
   "outputs": [],
   "source": [
    "# Necesitamos primero pre-clasificar los datos para poder entrenar posteriormente el modelo\n",
    "# Usaremos la información de \"quality\" para determinar si el vino es de buena calidad o no\n",
    "\n",
    "# first we need to pre-clasify the data in order to train the model later on\n",
    "# we will use the information in \"quality\" to determine if wine is good (1) or bad (0)\n",
    "\n",
    "calidad = np.unique(df[\"quality\"])\n",
    "print(\"Calidades:\", calidad)\n",
    "print(\"Qualities:\", calidad)"
   ]
  },
  {
   "cell_type": "code",
   "execution_count": null,
   "metadata": {},
   "outputs": [],
   "source": [
    "# Digamos que el vino es bueno si la calidad es 7 u 8\n",
    "# Crearemos una nueva columna en el dataframe llamada BuenoMalo\n",
    "# Si \"quality\" = [7,8] el valor de BuenoMalo será 1, de lo contrario será 0\n",
    "\n",
    "# Let's say the wine is \"good\" if quality es 7 or 8\n",
    "# We'll create a new column in dataframe named BuenoMalo\n",
    "# If \"quality\" is 7 or 8, then the value in BuenoMalo will be 1, else it will be 0\n",
    "\n",
    "df[\"BuenoMalo\"] = df[\"quality\"].apply(\n",
    "    lambda x: 1 if (x == 7 or x == 8) else 0\n",
    ")\n",
    "\n",
    "#print(np.unique(df[\"BuenoMalo\"]))"
   ]
  },
  {
   "cell_type": "markdown",
   "metadata": {},
   "source": [
    "* A continuación vamos a crear el modelo usando la librería **LogisticRegression** de **sklearn**\n",
    "* Now we'll create the model using library **LogisticRegression** from **sklearn**"
   ]
  },
  {
   "cell_type": "code",
   "execution_count": null,
   "metadata": {},
   "outputs": [],
   "source": [
    "# crearemos dos variables\n",
    "# 'x' servirá para cargar todas las características que ayudarán a clasificar el vino\n",
    "# 'y' servirá para cargar los datos de la calidad del vino\n",
    "\n",
    "# we'll create two variables\n",
    "# we'll load all features that will help classify wine in 'x'\n",
    "# 'y' will do for loading wine quality\n",
    "\n",
    "x = df[[\"fixed acidity\", \"volatile acidity\", \"residual sugar\", \"chlorides\", \"total sulfur dioxide\", \"density\", \"sulphates\", \"alcohol\"]]\n",
    "y = df[[\"BuenoMalo\"]]"
   ]
  },
  {
   "cell_type": "code",
   "execution_count": null,
   "metadata": {},
   "outputs": [],
   "source": [
    "# vamos a separar los datos en conjunto de entrenamiento y conjunto de pruebas\n",
    "# now let's slit the dataset in training and test sets\n",
    "\n",
    "trainf, testf, trainl, testl = train_test_split(x, y)"
   ]
  },
  {
   "cell_type": "code",
   "execution_count": null,
   "metadata": {},
   "outputs": [],
   "source": [
    "# vamos a normalizar los datos\n",
    "# we need data normalization\n",
    "\n",
    "scalr = StandardScaler()\n",
    "\n",
    "trainf = scalr.fit_transform(trainf)\n",
    "testf = scalr.fit_transform(testf)"
   ]
  },
  {
   "cell_type": "code",
   "execution_count": null,
   "metadata": {},
   "outputs": [],
   "source": [
    "# ahora crearemos el modelo y lo entrenaremos\n",
    "# now to create and train the model\n",
    "\n",
    "modelo = LogisticRegression()\n",
    "modelo.fit(trainf, trainl)"
   ]
  },
  {
   "cell_type": "code",
   "execution_count": null,
   "metadata": {
    "scrolled": true
   },
   "outputs": [],
   "source": [
    "print(\"Score del modelo:\", modelo.score(testf, testl))\n",
    "print(\"Coeficientes del modelo:\", modelo.coef_)\n",
    "print(\"\"\"\"\"\")\n",
    "print(\"Model Score:\", modelo.score(testf, testl))\n",
    "print(\"Model Coeficients:\", modelo.coef_)"
   ]
  },
  {
   "cell_type": "markdown",
   "metadata": {},
   "source": [
    "#### El primer resultado indica que el modelo se entrenó para clasificar con éxito aproximadamente el 85% de los casos\n",
    "* Crearemos ahora una función que nos permita entrenar el modelo hasta que este alcance más del 90% de efectividad\n",
    "\n",
    "#### Fists score indicates the model has been succesfully trained to clasify aprox. 85% of the cases\n",
    "* We'll now create a function that allow us to train the model until this reaches more than 90% success rate (Score)"
   ]
  },
  {
   "cell_type": "code",
   "execution_count": null,
   "metadata": {},
   "outputs": [],
   "source": [
    "titls = {\"Caracteristica\": [\"fixed acidity\", \"volatile acidity\", \"residual sugar\", \"chlorides\", \"total sulfur dioxide\", \"density\", \"sulphates\", \"alcohol\"]}\n",
    "\n",
    "efe = modelo.score(testf, testl)\n",
    "\n",
    "# cambia este valor de 0.90 a 0.95 para que veas que sucede (entre más grande más tardará en entrenarse el modelo)\n",
    "# try changing this value between 0.90 and 0.95 and see what happens (the greater the longer it takes to train itself)\n",
    "meta = 0.93\n",
    "\n",
    "i = 0\n",
    "total_time = 0.0\n",
    "start_time = datetime.now()\n",
    "while efe < meta:\n",
    "    trainf, testf, trainl, testl = train_test_split(x, y)\n",
    "    trainf = scalr.fit_transform(trainf)\n",
    "    testf = scalr.fit_transform(testf)\n",
    "    modelo.fit(trainf, trainl)\n",
    "    efe = modelo.score(testf, testl)\n",
    "    if efe > meta:\n",
    "        end_time = datetime.now()\n",
    "        total_time = (end_time - start_time).total_seconds()\n",
    "        break\n",
    "    i += 1\n",
    "try:\n",
    "    coe = modelo.coef_.T\n",
    "    coefs = pd.concat([pd.DataFrame(titls), pd.DataFrame(coe)], axis = 1)\n",
    "    coefs.columns = [\"Caracteristica\", \"Coeficiente\"]\n",
    "except Exception as ex:\n",
    "    print(\"\")\n",
    "\n",
    "print(\"\"\"\"\"\")\n",
    "print(\"MODELO ENTRENADO EXITÓSAMENTE\")\n",
    "print(\"Eficiencia esperada:\", meta)\n",
    "print(\"-----------------------------\")\n",
    "print(\"\"\"\"\"\")\n",
    "print(\"Se requirieron:\", i, \"iteraciones y\", total_time, \"segundos\")\n",
    "print(\"\"\"\"\"\")\n",
    "print(\"Se utilizaron.\", len(trainf), \"elementos para el entrenamiento\")\n",
    "print(\"Se evaluaron:\",len(testf), \"elementos para calcular la eficiencia\")\n",
    "print(\"\"\"\"\"\")\n",
    "print(\"Eficiencia final:\", efe)\n",
    "print(\"Coeficientes finales:\")\n",
    "print(coefs)\n",
    "\n",
    "print(\"\"\"\"\"\")\n",
    "print(\"\"\"\"\"\")\n",
    "print(\"MODEL TRAINED SUCCESFULLY\")\n",
    "print(\"Expected Score:\", meta)\n",
    "print(\"-----------------------------\")\n",
    "print(\"\"\"\"\"\")\n",
    "print(\"It required:\", i, \"iterations and\", total_time, \"seconds\")\n",
    "print(\"\"\"\"\"\")\n",
    "print(\"It used:\", len(trainf), \"training observations\")\n",
    "print(\"It evaluated:\",len(testf), \"observations to calculate Score\")\n",
    "print(\"\"\"\"\"\")\n",
    "print(\"Final Score:\", efe)\n",
    "print(\"Final model coeficients:\")\n",
    "print(coefs)"
   ]
  },
  {
   "cell_type": "code",
   "execution_count": null,
   "metadata": {},
   "outputs": [],
   "source": []
  }
 ],
 "metadata": {
  "kernelspec": {
   "display_name": "Python 3",
   "language": "python",
   "name": "python3"
  },
  "language_info": {
   "codemirror_mode": {
    "name": "ipython",
    "version": 3
   },
   "file_extension": ".py",
   "mimetype": "text/x-python",
   "name": "python",
   "nbconvert_exporter": "python",
   "pygments_lexer": "ipython3",
   "version": "3.8.5"
  }
 },
 "nbformat": 4,
 "nbformat_minor": 4
}
